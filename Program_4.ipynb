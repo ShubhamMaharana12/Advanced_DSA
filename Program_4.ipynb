{
 "cells": [
  {
   "cell_type": "markdown",
   "metadata": {},
   "source": [
    "4) In an array, Count Pairs with given sum"
   ]
  },
  {
   "cell_type": "code",
   "execution_count": null,
   "metadata": {},
   "outputs": [],
   "source": [
    "def count_pairs_with_sum(arr, target_sum):\n",
    "    count = 0\n",
    "    num_dict = {} \n",
    "    \n",
    "\n",
    "    for num in arr:\n",
    "        complement = target_sum - num\n",
    "        \n",
    "      \n",
    "        if complement in num_dict:\n",
    "            count += num_dict[complement] \n",
    "        \n",
    "       \n",
    "        num_dict[num] = num_dict.get(num, 0) + 1\n",
    "    \n",
    "    return count\n",
    "\n",
    "\n",
    "values = list(map(int, input(\"Enter space-separated values for the array: \").split()))\n",
    "target_sum = int(input(\"Enter the target sum: \"))\n",
    "\n",
    "\n",
    "pair_count = count_pairs_with_sum(values, target_sum)\n",
    "\n",
    "print(f\"Number of pairs with sum {target_sum}: {pair_count}\")"
   ]
  }
 ],
 "metadata": {
  "language_info": {
   "name": "python"
  }
 },
 "nbformat": 4,
 "nbformat_minor": 2
}
