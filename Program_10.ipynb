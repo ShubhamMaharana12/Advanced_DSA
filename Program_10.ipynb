{
 "cells": [
  {
   "cell_type": "markdown",
   "metadata": {},
   "source": [
    "10) Implement a queue using the stack data structure"
   ]
  },
  {
   "cell_type": "code",
   "execution_count": null,
   "metadata": {},
   "outputs": [],
   "source": [
    "class Stack:\n",
    "    def __init__(self):\n",
    "        self.items = []\n",
    "    \n",
    "    def push(self, item):\n",
    "        self.items.append(item)\n",
    "    \n",
    "    def pop(self):\n",
    "        if not self.is_empty():\n",
    "            return self.items.pop()\n",
    "    \n",
    "    def is_empty(self):\n",
    "        return len(self.items) == 0\n",
    "\n",
    "\n",
    "class QueueUsingStacks:\n",
    "    def __init__(self):\n",
    "        self.stack1 = Stack() \n",
    "        self.stack2 = Stack() \n",
    "    \n",
    "    def enqueue(self, item):\n",
    "        self.stack1.push(item)\n",
    "    \n",
    "    def dequeue(self):\n",
    "        if self.stack2.is_empty():\n",
    "            \n",
    "            while not self.stack1.is_empty():\n",
    "                self.stack2.push(self.stack1.pop())\n",
    "        \n",
    "        return self.stack2.pop()\n",
    "\n",
    "\n",
    "queue = QueueUsingStacks()\n",
    "\n",
    "\n",
    "while True:\n",
    "    print(\"1. Enqueue\")\n",
    "    print(\"2. Dequeue\")\n",
    "    print(\"3. Exit\")\n",
    "    choice = int(input(\"Enter your choice: \"))\n",
    "    \n",
    "    if choice == 1:\n",
    "        item = int(input(\"Enter the element to enqueue: \"))\n",
    "        queue.enqueue(item)\n",
    "    elif choice == 2:\n",
    "        dequeued_item = queue.dequeue()\n",
    "        if dequeued_item is not None:\n",
    "            print(\"Dequeued element:\", dequeued_item)\n",
    "        else:\n",
    "            print(\"Queue is empty.\")\n",
    "    elif choice == 3:\n",
    "        break\n",
    "    else:\n",
    "        print(\"Invalid choice. Please try again.\")"
   ]
  }
 ],
 "metadata": {
  "language_info": {
   "name": "python"
  }
 },
 "nbformat": 4,
 "nbformat_minor": 2
}
