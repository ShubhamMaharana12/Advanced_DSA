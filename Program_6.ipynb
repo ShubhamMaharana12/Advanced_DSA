{
 "cells": [
  {
   "cell_type": "markdown",
   "metadata": {},
   "source": [
    "6) Find the Kth largest and Kth smallest number in an array."
   ]
  },
  {
   "cell_type": "code",
   "execution_count": null,
   "metadata": {},
   "outputs": [],
   "source": [
    "def find_kth_largest(arr, k):\n",
    "    arr.sort(reverse=True)\n",
    "    return arr[k - 1]\n",
    "\n",
    "def find_kth_smallest(arr, k):\n",
    "    arr.sort()\n",
    "    return arr[k - 1]\n",
    "\n",
    "\n",
    "values = list(map(int, input(\"Enter space-separated values for the array: \").split()))\n",
    "k = int(input(\"Enter the value of K: \"))\n",
    "\n",
    "kth_largest = find_kth_largest(values, k)\n",
    "kth_smallest = find_kth_smallest(values, k)\n",
    "\n",
    "print(f\"{k}th Largest number in the array: {kth_largest}\")\n",
    "print(f\"{k}th Smallest number in the array: {kth_smallest}\")"
   ]
  }
 ],
 "metadata": {
  "language_info": {
   "name": "python"
  }
 },
 "nbformat": 4,
 "nbformat_minor": 2
}
