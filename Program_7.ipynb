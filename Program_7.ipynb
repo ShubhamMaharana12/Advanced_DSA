{
 "cells": [
  {
   "cell_type": "markdown",
   "metadata": {},
   "source": [
    "7) Move all the negative elements to one side of the array"
   ]
  },
  {
   "cell_type": "code",
   "execution_count": null,
   "metadata": {},
   "outputs": [],
   "source": [
    "values = list(map(int, input(\"Enter space-separated values for the array: \").split()))\n",
    "\n",
    "\n",
    "left = 0\n",
    "right = len(values) - 1\n",
    "\n",
    "while left <= right:\n",
    "   \n",
    "    if values[left] < 0:\n",
    "        left += 1\n",
    "  \n",
    "    elif values[right] >= 0:\n",
    "        right -= 1\n",
    "   \n",
    "    else:\n",
    "        values[left], values[right] = values[right], values[left]\n",
    "        left += 1\n",
    "        right -= 1\n",
    "\n",
    "print(\"Array after moving negative elements to one side:\", values)"
   ]
  }
 ],
 "metadata": {
  "language_info": {
   "name": "python"
  }
 },
 "nbformat": 4,
 "nbformat_minor": 2
}
