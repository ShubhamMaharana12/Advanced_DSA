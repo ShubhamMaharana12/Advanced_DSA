{
 "cells": [
  {
   "cell_type": "markdown",
   "metadata": {},
   "source": [
    "9) Evaluate a postfix expression using stack"
   ]
  },
  {
   "cell_type": "code",
   "execution_count": null,
   "metadata": {},
   "outputs": [],
   "source": [
    "class Stack:\n",
    "    def __init__(self):\n",
    "        self.items = []\n",
    "    \n",
    "    def push(self, item):\n",
    "        self.items.append(item)\n",
    "    \n",
    "    def pop(self):\n",
    "        if not self.is_empty():\n",
    "            return self.items.pop()\n",
    "    \n",
    "    def is_empty(self):\n",
    "        return len(self.items) == 0\n",
    "\n",
    "\n",
    "def evaluate_postfix(expression):\n",
    "    stack = Stack()\n",
    "    operators = set(['+', '-', '*', '/'])\n",
    "    \n",
    "    for char in expression:\n",
    "        if char not in operators:\n",
    "            \n",
    "            stack.push(int(char))\n",
    "        else:\n",
    "            \n",
    "            operand2 = stack.pop()\n",
    "            operand1 = stack.pop()\n",
    "            if char == '+':\n",
    "                stack.push(operand1 + operand2)\n",
    "            elif char == '-':\n",
    "                stack.push(operand1 - operand2)\n",
    "            elif char == '*':\n",
    "                stack.push(operand1 * operand2)\n",
    "            elif char == '/':\n",
    "                stack.push(operand1 / operand2) \n",
    "            \n",
    "   \n",
    "    return stack.pop()\n",
    "\n",
    "\n",
    "postfix_expression = input(\"Enter a postfix expression: \")\n",
    "\n",
    "\n",
    "result = evaluate_postfix(postfix_expression)\n",
    "\n",
    "print(\"Result:\", result)"
   ]
  }
 ],
 "metadata": {
  "language_info": {
   "name": "python"
  }
 },
 "nbformat": 4,
 "nbformat_minor": 2
}
