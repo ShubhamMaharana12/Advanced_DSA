{
 "cells": [
  {
   "cell_type": "markdown",
   "metadata": {},
   "source": [
    "5) Find duplicates in an array"
   ]
  },
  {
   "cell_type": "code",
   "execution_count": null,
   "metadata": {},
   "outputs": [],
   "source": [
    "def find_duplicates(arr):\n",
    "    num_dict = {} \n",
    "    duplicates = set()\n",
    "    \n",
    "    \n",
    "    for num in arr:\n",
    "       \n",
    "        if num in num_dict:\n",
    "            duplicates.add(num)  \n",
    "        else:\n",
    "            num_dict[num] = 1  \n",
    "    \n",
    "    return list(duplicates)\n",
    "\n",
    "\n",
    "values = list(map(int, input(\"Enter space-separated values for the array: \").split()))\n",
    "\n",
    "\n",
    "duplicate_elements = find_duplicates(values)\n",
    "\n",
    "if duplicate_elements:\n",
    "    print(f\"Duplicates in the array: {duplicate_elements}\")\n",
    "else:\n",
    "    print(\"No duplicates found in the array.\")"
   ]
  }
 ],
 "metadata": {
  "language_info": {
   "name": "python"
  }
 },
 "nbformat": 4,
 "nbformat_minor": 2
}
